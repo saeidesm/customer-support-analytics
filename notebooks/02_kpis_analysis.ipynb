{
 "cells": [
  {
   "cell_type": "markdown",
   "id": "4d71401f-c7b7-4360-895a-2bb832b07219",
   "metadata": {},
   "source": [
    "# Setup and Load Data"
   ]
  },
  {
   "cell_type": "code",
   "execution_count": 1,
   "id": "9a5eef5a-4be2-452d-82c3-b13e235daaef",
   "metadata": {},
   "outputs": [
    {
     "data": {
      "text/html": [
       "<div>\n",
       "<style scoped>\n",
       "    .dataframe tbody tr th:only-of-type {\n",
       "        vertical-align: middle;\n",
       "    }\n",
       "\n",
       "    .dataframe tbody tr th {\n",
       "        vertical-align: top;\n",
       "    }\n",
       "\n",
       "    .dataframe thead th {\n",
       "        text-align: right;\n",
       "    }\n",
       "</style>\n",
       "<table border=\"1\" class=\"dataframe\">\n",
       "  <thead>\n",
       "    <tr style=\"text-align: right;\">\n",
       "      <th></th>\n",
       "      <th>Ticket ID</th>\n",
       "      <th>Customer Name</th>\n",
       "      <th>Customer Email</th>\n",
       "      <th>Customer Age</th>\n",
       "      <th>Customer Gender</th>\n",
       "      <th>Product Purchased</th>\n",
       "      <th>Date of Purchase</th>\n",
       "      <th>Ticket Type</th>\n",
       "      <th>Ticket Subject</th>\n",
       "      <th>Ticket Description</th>\n",
       "      <th>Ticket Status</th>\n",
       "      <th>Resolution</th>\n",
       "      <th>Ticket Priority</th>\n",
       "      <th>Ticket Channel</th>\n",
       "      <th>First Response Time</th>\n",
       "      <th>Time to Resolution</th>\n",
       "      <th>Customer Satisfaction Rating</th>\n",
       "    </tr>\n",
       "  </thead>\n",
       "  <tbody>\n",
       "    <tr>\n",
       "      <th>0</th>\n",
       "      <td>1</td>\n",
       "      <td>Marisa Obrien</td>\n",
       "      <td>carrollallison@example.com</td>\n",
       "      <td>32</td>\n",
       "      <td>Other</td>\n",
       "      <td>GoPro Hero</td>\n",
       "      <td>2021-03-22</td>\n",
       "      <td>Technical issue</td>\n",
       "      <td>Product setup</td>\n",
       "      <td>I'm having an issue with the {product_purchase...</td>\n",
       "      <td>Pending Customer Response</td>\n",
       "      <td>NaN</td>\n",
       "      <td>Critical</td>\n",
       "      <td>Social media</td>\n",
       "      <td>2023-06-01 12:15:36</td>\n",
       "      <td>NaN</td>\n",
       "      <td>NaN</td>\n",
       "    </tr>\n",
       "    <tr>\n",
       "      <th>1</th>\n",
       "      <td>2</td>\n",
       "      <td>Jessica Rios</td>\n",
       "      <td>clarkeashley@example.com</td>\n",
       "      <td>42</td>\n",
       "      <td>Female</td>\n",
       "      <td>LG Smart TV</td>\n",
       "      <td>2021-05-22</td>\n",
       "      <td>Technical issue</td>\n",
       "      <td>Peripheral compatibility</td>\n",
       "      <td>I'm having an issue with the {product_purchase...</td>\n",
       "      <td>Pending Customer Response</td>\n",
       "      <td>NaN</td>\n",
       "      <td>Critical</td>\n",
       "      <td>Chat</td>\n",
       "      <td>2023-06-01 16:45:38</td>\n",
       "      <td>NaN</td>\n",
       "      <td>NaN</td>\n",
       "    </tr>\n",
       "    <tr>\n",
       "      <th>2</th>\n",
       "      <td>3</td>\n",
       "      <td>Christopher Robbins</td>\n",
       "      <td>gonzalestracy@example.com</td>\n",
       "      <td>48</td>\n",
       "      <td>Other</td>\n",
       "      <td>Dell XPS</td>\n",
       "      <td>2020-07-14</td>\n",
       "      <td>Technical issue</td>\n",
       "      <td>Network problem</td>\n",
       "      <td>I'm facing a problem with my {product_purchase...</td>\n",
       "      <td>Closed</td>\n",
       "      <td>Case maybe show recently my computer follow.</td>\n",
       "      <td>Low</td>\n",
       "      <td>Social media</td>\n",
       "      <td>2023-06-01 11:14:38</td>\n",
       "      <td>2023-06-01 18:05:38</td>\n",
       "      <td>3.0</td>\n",
       "    </tr>\n",
       "    <tr>\n",
       "      <th>3</th>\n",
       "      <td>4</td>\n",
       "      <td>Christina Dillon</td>\n",
       "      <td>bradleyolson@example.org</td>\n",
       "      <td>27</td>\n",
       "      <td>Female</td>\n",
       "      <td>Microsoft Office</td>\n",
       "      <td>2020-11-13</td>\n",
       "      <td>Billing inquiry</td>\n",
       "      <td>Account access</td>\n",
       "      <td>I'm having an issue with the {product_purchase...</td>\n",
       "      <td>Closed</td>\n",
       "      <td>Try capital clearly never color toward story.</td>\n",
       "      <td>Low</td>\n",
       "      <td>Social media</td>\n",
       "      <td>2023-06-01 07:29:40</td>\n",
       "      <td>2023-06-01 01:57:40</td>\n",
       "      <td>3.0</td>\n",
       "    </tr>\n",
       "    <tr>\n",
       "      <th>4</th>\n",
       "      <td>5</td>\n",
       "      <td>Alexander Carroll</td>\n",
       "      <td>bradleymark@example.com</td>\n",
       "      <td>67</td>\n",
       "      <td>Female</td>\n",
       "      <td>Autodesk AutoCAD</td>\n",
       "      <td>2020-02-04</td>\n",
       "      <td>Billing inquiry</td>\n",
       "      <td>Data loss</td>\n",
       "      <td>I'm having an issue with the {product_purchase...</td>\n",
       "      <td>Closed</td>\n",
       "      <td>West decision evidence bit.</td>\n",
       "      <td>Low</td>\n",
       "      <td>Email</td>\n",
       "      <td>2023-06-01 00:12:42</td>\n",
       "      <td>2023-06-01 19:53:42</td>\n",
       "      <td>1.0</td>\n",
       "    </tr>\n",
       "  </tbody>\n",
       "</table>\n",
       "</div>"
      ],
      "text/plain": [
       "   Ticket ID        Customer Name              Customer Email  Customer Age  \\\n",
       "0          1        Marisa Obrien  carrollallison@example.com            32   \n",
       "1          2         Jessica Rios    clarkeashley@example.com            42   \n",
       "2          3  Christopher Robbins   gonzalestracy@example.com            48   \n",
       "3          4     Christina Dillon    bradleyolson@example.org            27   \n",
       "4          5    Alexander Carroll     bradleymark@example.com            67   \n",
       "\n",
       "  Customer Gender Product Purchased Date of Purchase      Ticket Type  \\\n",
       "0           Other        GoPro Hero       2021-03-22  Technical issue   \n",
       "1          Female       LG Smart TV       2021-05-22  Technical issue   \n",
       "2           Other          Dell XPS       2020-07-14  Technical issue   \n",
       "3          Female  Microsoft Office       2020-11-13  Billing inquiry   \n",
       "4          Female  Autodesk AutoCAD       2020-02-04  Billing inquiry   \n",
       "\n",
       "             Ticket Subject  \\\n",
       "0             Product setup   \n",
       "1  Peripheral compatibility   \n",
       "2           Network problem   \n",
       "3            Account access   \n",
       "4                 Data loss   \n",
       "\n",
       "                                  Ticket Description  \\\n",
       "0  I'm having an issue with the {product_purchase...   \n",
       "1  I'm having an issue with the {product_purchase...   \n",
       "2  I'm facing a problem with my {product_purchase...   \n",
       "3  I'm having an issue with the {product_purchase...   \n",
       "4  I'm having an issue with the {product_purchase...   \n",
       "\n",
       "               Ticket Status                                     Resolution  \\\n",
       "0  Pending Customer Response                                            NaN   \n",
       "1  Pending Customer Response                                            NaN   \n",
       "2                     Closed   Case maybe show recently my computer follow.   \n",
       "3                     Closed  Try capital clearly never color toward story.   \n",
       "4                     Closed                    West decision evidence bit.   \n",
       "\n",
       "  Ticket Priority Ticket Channel  First Response Time   Time to Resolution  \\\n",
       "0        Critical   Social media  2023-06-01 12:15:36                  NaN   \n",
       "1        Critical           Chat  2023-06-01 16:45:38                  NaN   \n",
       "2             Low   Social media  2023-06-01 11:14:38  2023-06-01 18:05:38   \n",
       "3             Low   Social media  2023-06-01 07:29:40  2023-06-01 01:57:40   \n",
       "4             Low          Email  2023-06-01 00:12:42  2023-06-01 19:53:42   \n",
       "\n",
       "   Customer Satisfaction Rating  \n",
       "0                           NaN  \n",
       "1                           NaN  \n",
       "2                           3.0  \n",
       "3                           3.0  \n",
       "4                           1.0  "
      ]
     },
     "execution_count": 1,
     "metadata": {},
     "output_type": "execute_result"
    }
   ],
   "source": [
    "import pandas as pd\n",
    "import matplotlib.pyplot as plt\n",
    "import seaborn as sns\n",
    "\n",
    "# Plot style\n",
    "sns.set(style=\"whitegrid\")\n",
    "\n",
    "# Load the dataset\n",
    "df = pd.read_csv(\"../data/raw/customer_support_data.csv\")\n",
    "\n",
    "# Preview\n",
    "df.head()\n"
   ]
  },
  {
   "cell_type": "markdown",
   "id": "28c24e06-4631-4aaf-89d7-e663c1985b39",
   "metadata": {},
   "source": [
    "## Clean date columns & calculate resolution time"
   ]
  },
  {
   "cell_type": "code",
   "execution_count": 2,
   "id": "13cccdd9-e897-4d2e-8156-a5a91abe37bf",
   "metadata": {},
   "outputs": [
    {
     "data": {
      "text/html": [
       "<div>\n",
       "<style scoped>\n",
       "    .dataframe tbody tr th:only-of-type {\n",
       "        vertical-align: middle;\n",
       "    }\n",
       "\n",
       "    .dataframe tbody tr th {\n",
       "        vertical-align: top;\n",
       "    }\n",
       "\n",
       "    .dataframe thead th {\n",
       "        text-align: right;\n",
       "    }\n",
       "</style>\n",
       "<table border=\"1\" class=\"dataframe\">\n",
       "  <thead>\n",
       "    <tr style=\"text-align: right;\">\n",
       "      <th></th>\n",
       "      <th>Date of Purchase</th>\n",
       "      <th>Time to Resolution</th>\n",
       "      <th>Resolution Time (hrs)</th>\n",
       "    </tr>\n",
       "  </thead>\n",
       "  <tbody>\n",
       "    <tr>\n",
       "      <th>0</th>\n",
       "      <td>2021-03-22</td>\n",
       "      <td>NaT</td>\n",
       "      <td>NaN</td>\n",
       "    </tr>\n",
       "    <tr>\n",
       "      <th>1</th>\n",
       "      <td>2021-05-22</td>\n",
       "      <td>NaT</td>\n",
       "      <td>NaN</td>\n",
       "    </tr>\n",
       "    <tr>\n",
       "      <th>2</th>\n",
       "      <td>2020-07-14</td>\n",
       "      <td>2023-06-01 18:05:38</td>\n",
       "      <td>25266.093889</td>\n",
       "    </tr>\n",
       "    <tr>\n",
       "      <th>3</th>\n",
       "      <td>2020-11-13</td>\n",
       "      <td>2023-06-01 01:57:40</td>\n",
       "      <td>22321.961111</td>\n",
       "    </tr>\n",
       "    <tr>\n",
       "      <th>4</th>\n",
       "      <td>2020-02-04</td>\n",
       "      <td>2023-06-01 19:53:42</td>\n",
       "      <td>29131.895000</td>\n",
       "    </tr>\n",
       "  </tbody>\n",
       "</table>\n",
       "</div>"
      ],
      "text/plain": [
       "  Date of Purchase  Time to Resolution  Resolution Time (hrs)\n",
       "0       2021-03-22                 NaT                    NaN\n",
       "1       2021-05-22                 NaT                    NaN\n",
       "2       2020-07-14 2023-06-01 18:05:38           25266.093889\n",
       "3       2020-11-13 2023-06-01 01:57:40           22321.961111\n",
       "4       2020-02-04 2023-06-01 19:53:42           29131.895000"
      ]
     },
     "execution_count": 2,
     "metadata": {},
     "output_type": "execute_result"
    }
   ],
   "source": [
    "# Convert relevant columns to datetime\n",
    "df['Date of Purchase'] = pd.to_datetime(df['Date of Purchase'], errors='coerce')\n",
    "df['First Response Time'] = pd.to_datetime(df['First Response Time'], errors='coerce')\n",
    "df['Time to Resolution'] = pd.to_datetime(df['Time to Resolution'], errors='coerce')\n",
    "\n",
    "# Calculate resolution time in hours\n",
    "df['Resolution Time (hrs)'] = (\n",
    "    df['Time to Resolution'] - df['Date of Purchase']\n",
    ").dt.total_seconds() / 3600\n",
    "\n",
    "# Preview new column\n",
    "df[['Date of Purchase', 'Time to Resolution', 'Resolution Time (hrs)']].head()\n"
   ]
  },
  {
   "cell_type": "markdown",
   "id": "9ed82747-b37d-4546-a357-3a5e86557bbf",
   "metadata": {},
   "source": [
    "## First Response Time (hrs)"
   ]
  },
  {
   "cell_type": "code",
   "execution_count": 3,
   "id": "21ee900f-39a9-496d-8e3d-cebbad66f521",
   "metadata": {},
   "outputs": [
    {
     "data": {
      "text/plain": [
       "count     5650.000000\n",
       "mean     21232.951597\n",
       "std       5085.304886\n",
       "min      12435.146111\n",
       "25%      16824.263403\n",
       "50%      21273.225972\n",
       "75%      25629.607569\n",
       "max      29944.581944\n",
       "Name: First Response Delay (hrs), dtype: float64"
      ]
     },
     "execution_count": 3,
     "metadata": {},
     "output_type": "execute_result"
    }
   ],
   "source": [
    "df['First Response Delay (hrs)'] = (\n",
    "    df['First Response Time'] - df['Date of Purchase']\n",
    ").dt.total_seconds() / 3600\n",
    "\n",
    "# View basic stats\n",
    "df['First Response Delay (hrs)'].describe()\n"
   ]
  },
  {
   "cell_type": "markdown",
   "id": "9433c9b6-5013-48f6-b95e-8666ee5ae10e",
   "metadata": {},
   "source": [
    "## Resolution Rate Under 24 Hours"
   ]
  },
  {
   "cell_type": "code",
   "execution_count": 5,
   "id": "9cfe7e18-c5d1-44c1-9829-ee2245bacb14",
   "metadata": {},
   "outputs": [
    {
     "name": "stdout",
     "output_type": "stream",
     "text": [
      "% of tickets resolved in under 24 hours: 0.00%\n"
     ]
    }
   ],
   "source": [
    "df['Resolved <24h'] = df['Resolution Time (hrs)'] < 24\n",
    "\n",
    "# Calculate the % of tickets resolved within 24 hours\n",
    "resolution_rate = df['Resolved <24h'].mean()\n",
    "\n",
    "# Display the result\n",
    "print(f\"% of tickets resolved in under 24 hours: {resolution_rate * 100:.2f}%\")\n"
   ]
  },
  {
   "cell_type": "markdown",
   "id": "246a66b7-b2bc-4413-9dd1-5ab1a18b5af6",
   "metadata": {},
   "source": [
    "## Average CSAT (Customer Satisfaction Score)"
   ]
  },
  {
   "cell_type": "code",
   "execution_count": 6,
   "id": "85fef0e8-e67e-47b7-a5b1-512910d59537",
   "metadata": {},
   "outputs": [
    {
     "name": "stdout",
     "output_type": "stream",
     "text": [
      "Average CSAT score: 2.99 / 5\n"
     ]
    }
   ],
   "source": [
    "csat_avg = df['Customer Satisfaction Rating'].mean()\n",
    "\n",
    "# Display result\n",
    "print(f\"Average CSAT score: {csat_avg:.2f} / 5\")\n"
   ]
  },
  {
   "cell_type": "markdown",
   "id": "86e0fc8f-c98b-4507-9bb4-4d8d510474f7",
   "metadata": {},
   "source": [
    "## Tickets by Channel"
   ]
  },
  {
   "cell_type": "code",
   "execution_count": 7,
   "id": "03ab19ae-0db7-4fce-94d7-a04080571348",
   "metadata": {},
   "outputs": [
    {
     "name": "stdout",
     "output_type": "stream",
     "text": [
      "Ticket volume by channel:\n",
      "Ticket Channel\n",
      "Email           2143\n",
      "Phone           2132\n",
      "Social media    2121\n",
      "Chat            2073\n",
      "Name: count, dtype: int64\n"
     ]
    }
   ],
   "source": [
    "channel_counts = df['Ticket Channel'].value_counts()\n",
    "\n",
    "# Display result\n",
    "print(\"Ticket volume by channel:\")\n",
    "print(channel_counts)\n"
   ]
  },
  {
   "cell_type": "markdown",
   "id": "0c365d71-de27-4faa-97d4-3a6d739ac024",
   "metadata": {},
   "source": [
    "## Avg Resolution Time by Priority"
   ]
  },
  {
   "cell_type": "code",
   "execution_count": 8,
   "id": "fb311b84-9fc1-4a3b-9067-f9a3de3dc230",
   "metadata": {},
   "outputs": [
    {
     "name": "stdout",
     "output_type": "stream",
     "text": [
      "Average resolution time by priority:\n",
      "Ticket Priority\n",
      "Low         21117.146771\n",
      "High        21257.181252\n",
      "Medium      21272.924228\n",
      "Critical    21279.315947\n",
      "Name: Resolution Time (hrs), dtype: float64\n"
     ]
    }
   ],
   "source": [
    "priority_resolution = df.groupby('Ticket Priority')['Resolution Time (hrs)'].mean().sort_values()\n",
    "\n",
    "# Display result\n",
    "print(\"Average resolution time by priority:\")\n",
    "print(priority_resolution)\n"
   ]
  },
  {
   "cell_type": "markdown",
   "id": "61bb9680-3fcd-4d5d-a014-8a12bdcfe1e7",
   "metadata": {},
   "source": [
    "## 📊 KPI Summary\n",
    "\n",
    "| KPI                             | Value (Approx.)        |\n",
    "|--------------------------------|-------------------------|\n",
    "| ✅ Avg First Response Time      | 21,233 hrs (~2.4 yrs) |\n",
    "| ✅ % Resolved Under 24 Hours    | 0.00%                   |\n",
    "| ✅ Avg CSAT Score               | 2.99 / 5                |\n",
    "| ✅ Most Used Channel            | Email                   |\n",
    "| ✅ Longest Avg Resolution Time  | Critical Priority       |\n"
   ]
  },
  {
   "cell_type": "code",
   "execution_count": null,
   "id": "ac8dbda5-f3b5-4aca-8039-84bd9cf57e25",
   "metadata": {},
   "outputs": [],
   "source": []
  }
 ],
 "metadata": {
  "kernelspec": {
   "display_name": "Python 3 (ipykernel)",
   "language": "python",
   "name": "python3"
  },
  "language_info": {
   "codemirror_mode": {
    "name": "ipython",
    "version": 3
   },
   "file_extension": ".py",
   "mimetype": "text/x-python",
   "name": "python",
   "nbconvert_exporter": "python",
   "pygments_lexer": "ipython3",
   "version": "3.9.6"
  }
 },
 "nbformat": 4,
 "nbformat_minor": 5
}
