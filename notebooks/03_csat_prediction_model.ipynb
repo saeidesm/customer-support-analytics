{
 "cells": [
  {
   "cell_type": "markdown",
   "id": "dcb09b5e-cfd4-4b99-809f-2ae088103f10",
   "metadata": {},
   "source": [
    "# Setup & Data Load"
   ]
  },
  {
   "cell_type": "code",
   "execution_count": 1,
   "id": "1ad422e6-8230-493a-ba2c-05d25acf4b79",
   "metadata": {},
   "outputs": [
    {
     "data": {
      "text/html": [
       "<div>\n",
       "<style scoped>\n",
       "    .dataframe tbody tr th:only-of-type {\n",
       "        vertical-align: middle;\n",
       "    }\n",
       "\n",
       "    .dataframe tbody tr th {\n",
       "        vertical-align: top;\n",
       "    }\n",
       "\n",
       "    .dataframe thead th {\n",
       "        text-align: right;\n",
       "    }\n",
       "</style>\n",
       "<table border=\"1\" class=\"dataframe\">\n",
       "  <thead>\n",
       "    <tr style=\"text-align: right;\">\n",
       "      <th></th>\n",
       "      <th>Ticket ID</th>\n",
       "      <th>Customer Name</th>\n",
       "      <th>Customer Email</th>\n",
       "      <th>Customer Age</th>\n",
       "      <th>Customer Gender</th>\n",
       "      <th>Product Purchased</th>\n",
       "      <th>Date of Purchase</th>\n",
       "      <th>Ticket Type</th>\n",
       "      <th>Ticket Subject</th>\n",
       "      <th>Ticket Description</th>\n",
       "      <th>Ticket Status</th>\n",
       "      <th>Resolution</th>\n",
       "      <th>Ticket Priority</th>\n",
       "      <th>Ticket Channel</th>\n",
       "      <th>First Response Time</th>\n",
       "      <th>Time to Resolution</th>\n",
       "      <th>Customer Satisfaction Rating</th>\n",
       "    </tr>\n",
       "  </thead>\n",
       "  <tbody>\n",
       "    <tr>\n",
       "      <th>0</th>\n",
       "      <td>1</td>\n",
       "      <td>Marisa Obrien</td>\n",
       "      <td>carrollallison@example.com</td>\n",
       "      <td>32</td>\n",
       "      <td>Other</td>\n",
       "      <td>GoPro Hero</td>\n",
       "      <td>2021-03-22</td>\n",
       "      <td>Technical issue</td>\n",
       "      <td>Product setup</td>\n",
       "      <td>I'm having an issue with the {product_purchase...</td>\n",
       "      <td>Pending Customer Response</td>\n",
       "      <td>NaN</td>\n",
       "      <td>Critical</td>\n",
       "      <td>Social media</td>\n",
       "      <td>2023-06-01 12:15:36</td>\n",
       "      <td>NaN</td>\n",
       "      <td>NaN</td>\n",
       "    </tr>\n",
       "    <tr>\n",
       "      <th>1</th>\n",
       "      <td>2</td>\n",
       "      <td>Jessica Rios</td>\n",
       "      <td>clarkeashley@example.com</td>\n",
       "      <td>42</td>\n",
       "      <td>Female</td>\n",
       "      <td>LG Smart TV</td>\n",
       "      <td>2021-05-22</td>\n",
       "      <td>Technical issue</td>\n",
       "      <td>Peripheral compatibility</td>\n",
       "      <td>I'm having an issue with the {product_purchase...</td>\n",
       "      <td>Pending Customer Response</td>\n",
       "      <td>NaN</td>\n",
       "      <td>Critical</td>\n",
       "      <td>Chat</td>\n",
       "      <td>2023-06-01 16:45:38</td>\n",
       "      <td>NaN</td>\n",
       "      <td>NaN</td>\n",
       "    </tr>\n",
       "    <tr>\n",
       "      <th>2</th>\n",
       "      <td>3</td>\n",
       "      <td>Christopher Robbins</td>\n",
       "      <td>gonzalestracy@example.com</td>\n",
       "      <td>48</td>\n",
       "      <td>Other</td>\n",
       "      <td>Dell XPS</td>\n",
       "      <td>2020-07-14</td>\n",
       "      <td>Technical issue</td>\n",
       "      <td>Network problem</td>\n",
       "      <td>I'm facing a problem with my {product_purchase...</td>\n",
       "      <td>Closed</td>\n",
       "      <td>Case maybe show recently my computer follow.</td>\n",
       "      <td>Low</td>\n",
       "      <td>Social media</td>\n",
       "      <td>2023-06-01 11:14:38</td>\n",
       "      <td>2023-06-01 18:05:38</td>\n",
       "      <td>3.0</td>\n",
       "    </tr>\n",
       "    <tr>\n",
       "      <th>3</th>\n",
       "      <td>4</td>\n",
       "      <td>Christina Dillon</td>\n",
       "      <td>bradleyolson@example.org</td>\n",
       "      <td>27</td>\n",
       "      <td>Female</td>\n",
       "      <td>Microsoft Office</td>\n",
       "      <td>2020-11-13</td>\n",
       "      <td>Billing inquiry</td>\n",
       "      <td>Account access</td>\n",
       "      <td>I'm having an issue with the {product_purchase...</td>\n",
       "      <td>Closed</td>\n",
       "      <td>Try capital clearly never color toward story.</td>\n",
       "      <td>Low</td>\n",
       "      <td>Social media</td>\n",
       "      <td>2023-06-01 07:29:40</td>\n",
       "      <td>2023-06-01 01:57:40</td>\n",
       "      <td>3.0</td>\n",
       "    </tr>\n",
       "    <tr>\n",
       "      <th>4</th>\n",
       "      <td>5</td>\n",
       "      <td>Alexander Carroll</td>\n",
       "      <td>bradleymark@example.com</td>\n",
       "      <td>67</td>\n",
       "      <td>Female</td>\n",
       "      <td>Autodesk AutoCAD</td>\n",
       "      <td>2020-02-04</td>\n",
       "      <td>Billing inquiry</td>\n",
       "      <td>Data loss</td>\n",
       "      <td>I'm having an issue with the {product_purchase...</td>\n",
       "      <td>Closed</td>\n",
       "      <td>West decision evidence bit.</td>\n",
       "      <td>Low</td>\n",
       "      <td>Email</td>\n",
       "      <td>2023-06-01 00:12:42</td>\n",
       "      <td>2023-06-01 19:53:42</td>\n",
       "      <td>1.0</td>\n",
       "    </tr>\n",
       "  </tbody>\n",
       "</table>\n",
       "</div>"
      ],
      "text/plain": [
       "   Ticket ID        Customer Name              Customer Email  Customer Age  \\\n",
       "0          1        Marisa Obrien  carrollallison@example.com            32   \n",
       "1          2         Jessica Rios    clarkeashley@example.com            42   \n",
       "2          3  Christopher Robbins   gonzalestracy@example.com            48   \n",
       "3          4     Christina Dillon    bradleyolson@example.org            27   \n",
       "4          5    Alexander Carroll     bradleymark@example.com            67   \n",
       "\n",
       "  Customer Gender Product Purchased Date of Purchase      Ticket Type  \\\n",
       "0           Other        GoPro Hero       2021-03-22  Technical issue   \n",
       "1          Female       LG Smart TV       2021-05-22  Technical issue   \n",
       "2           Other          Dell XPS       2020-07-14  Technical issue   \n",
       "3          Female  Microsoft Office       2020-11-13  Billing inquiry   \n",
       "4          Female  Autodesk AutoCAD       2020-02-04  Billing inquiry   \n",
       "\n",
       "             Ticket Subject  \\\n",
       "0             Product setup   \n",
       "1  Peripheral compatibility   \n",
       "2           Network problem   \n",
       "3            Account access   \n",
       "4                 Data loss   \n",
       "\n",
       "                                  Ticket Description  \\\n",
       "0  I'm having an issue with the {product_purchase...   \n",
       "1  I'm having an issue with the {product_purchase...   \n",
       "2  I'm facing a problem with my {product_purchase...   \n",
       "3  I'm having an issue with the {product_purchase...   \n",
       "4  I'm having an issue with the {product_purchase...   \n",
       "\n",
       "               Ticket Status                                     Resolution  \\\n",
       "0  Pending Customer Response                                            NaN   \n",
       "1  Pending Customer Response                                            NaN   \n",
       "2                     Closed   Case maybe show recently my computer follow.   \n",
       "3                     Closed  Try capital clearly never color toward story.   \n",
       "4                     Closed                    West decision evidence bit.   \n",
       "\n",
       "  Ticket Priority Ticket Channel  First Response Time   Time to Resolution  \\\n",
       "0        Critical   Social media  2023-06-01 12:15:36                  NaN   \n",
       "1        Critical           Chat  2023-06-01 16:45:38                  NaN   \n",
       "2             Low   Social media  2023-06-01 11:14:38  2023-06-01 18:05:38   \n",
       "3             Low   Social media  2023-06-01 07:29:40  2023-06-01 01:57:40   \n",
       "4             Low          Email  2023-06-01 00:12:42  2023-06-01 19:53:42   \n",
       "\n",
       "   Customer Satisfaction Rating  \n",
       "0                           NaN  \n",
       "1                           NaN  \n",
       "2                           3.0  \n",
       "3                           3.0  \n",
       "4                           1.0  "
      ]
     },
     "execution_count": 1,
     "metadata": {},
     "output_type": "execute_result"
    }
   ],
   "source": [
    "import pandas as pd\n",
    "import numpy as np\n",
    "import matplotlib.pyplot as plt\n",
    "import seaborn as sns\n",
    "\n",
    "# Load dataset\n",
    "df = pd.read_csv(\"../data/raw/customer_support_data.csv\")\n",
    "\n",
    "# Preview\n",
    "df.head()\n"
   ]
  },
  {
   "cell_type": "markdown",
   "id": "9c1d6460-339b-49b0-b4ae-9dbd04b8d356",
   "metadata": {},
   "source": [
    "## Drop missing CSAT ratings"
   ]
  },
  {
   "cell_type": "code",
   "execution_count": 2,
   "id": "3c989caa-1b85-46a9-af65-9699b1c1a962",
   "metadata": {},
   "outputs": [
    {
     "data": {
      "text/plain": [
       "np.int64(0)"
      ]
     },
     "execution_count": 2,
     "metadata": {},
     "output_type": "execute_result"
    }
   ],
   "source": [
    "# Remove rows where Customer Satisfaction Rating is missing\n",
    "df = df.dropna(subset=['Customer Satisfaction Rating'])\n",
    "\n",
    "# Confirm it's clean\n",
    "df['Customer Satisfaction Rating'].isna().sum()"
   ]
  },
  {
   "cell_type": "markdown",
   "id": "32d24ae3-cd08-48f4-adc8-78c3fd67f76d",
   "metadata": {},
   "source": [
    "## Define features and target"
   ]
  },
  {
   "cell_type": "code",
   "execution_count": 5,
   "id": "ca6d47be-e682-4ec8-b3a1-3358fb3a588e",
   "metadata": {},
   "outputs": [
    {
     "data": {
      "text/html": [
       "<div>\n",
       "<style scoped>\n",
       "    .dataframe tbody tr th:only-of-type {\n",
       "        vertical-align: middle;\n",
       "    }\n",
       "\n",
       "    .dataframe tbody tr th {\n",
       "        vertical-align: top;\n",
       "    }\n",
       "\n",
       "    .dataframe thead th {\n",
       "        text-align: right;\n",
       "    }\n",
       "</style>\n",
       "<table border=\"1\" class=\"dataframe\">\n",
       "  <thead>\n",
       "    <tr style=\"text-align: right;\">\n",
       "      <th></th>\n",
       "      <th>Customer Age</th>\n",
       "      <th>Customer Gender</th>\n",
       "      <th>Ticket Type</th>\n",
       "      <th>Ticket Priority</th>\n",
       "      <th>Ticket Channel</th>\n",
       "      <th>Resolution Time (hrs)</th>\n",
       "    </tr>\n",
       "  </thead>\n",
       "  <tbody>\n",
       "    <tr>\n",
       "      <th>2</th>\n",
       "      <td>48</td>\n",
       "      <td>Other</td>\n",
       "      <td>Technical issue</td>\n",
       "      <td>Low</td>\n",
       "      <td>Social media</td>\n",
       "      <td>25266.093889</td>\n",
       "    </tr>\n",
       "    <tr>\n",
       "      <th>3</th>\n",
       "      <td>27</td>\n",
       "      <td>Female</td>\n",
       "      <td>Billing inquiry</td>\n",
       "      <td>Low</td>\n",
       "      <td>Social media</td>\n",
       "      <td>22321.961111</td>\n",
       "    </tr>\n",
       "    <tr>\n",
       "      <th>4</th>\n",
       "      <td>67</td>\n",
       "      <td>Female</td>\n",
       "      <td>Billing inquiry</td>\n",
       "      <td>Low</td>\n",
       "      <td>Email</td>\n",
       "      <td>29131.895000</td>\n",
       "    </tr>\n",
       "    <tr>\n",
       "      <th>10</th>\n",
       "      <td>48</td>\n",
       "      <td>Male</td>\n",
       "      <td>Cancellation request</td>\n",
       "      <td>High</td>\n",
       "      <td>Phone</td>\n",
       "      <td>20711.863611</td>\n",
       "    </tr>\n",
       "    <tr>\n",
       "      <th>11</th>\n",
       "      <td>51</td>\n",
       "      <td>Male</td>\n",
       "      <td>Product inquiry</td>\n",
       "      <td>High</td>\n",
       "      <td>Chat</td>\n",
       "      <td>14049.464167</td>\n",
       "    </tr>\n",
       "  </tbody>\n",
       "</table>\n",
       "</div>"
      ],
      "text/plain": [
       "    Customer Age Customer Gender           Ticket Type Ticket Priority  \\\n",
       "2             48           Other       Technical issue             Low   \n",
       "3             27          Female       Billing inquiry             Low   \n",
       "4             67          Female       Billing inquiry             Low   \n",
       "10            48            Male  Cancellation request            High   \n",
       "11            51            Male       Product inquiry            High   \n",
       "\n",
       "   Ticket Channel  Resolution Time (hrs)  \n",
       "2    Social media           25266.093889  \n",
       "3    Social media           22321.961111  \n",
       "4           Email           29131.895000  \n",
       "10          Phone           20711.863611  \n",
       "11           Chat           14049.464167  "
      ]
     },
     "execution_count": 5,
     "metadata": {},
     "output_type": "execute_result"
    }
   ],
   "source": [
    "# Target\n",
    "y = df['Customer Satisfaction Rating'].astype(int)\n",
    "\n",
    "# Feature matrix (adjusted based on available columns)\n",
    "features = [\n",
    "    'Customer Age', 'Customer Gender',\n",
    "    'Ticket Type', 'Ticket Priority',\n",
    "    'Ticket Channel', 'Time to Resolution'\n",
    "]\n",
    "\n",
    "X = df[features].copy()\n",
    "\n",
    "# Convert Time to Resolution to hours (if not already done)\n",
    "X['Time to Resolution'] = pd.to_datetime(X['Time to Resolution'], errors='coerce')\n",
    "df['Date of Purchase'] = pd.to_datetime(df['Date of Purchase'], errors='coerce')\n",
    "X['Resolution Time (hrs)'] = (X['Time to Resolution'] - df['Date of Purchase']).dt.total_seconds() / 3600\n",
    "\n",
    "# Drop original datetime column\n",
    "X.drop(columns='Time to Resolution', inplace=True)\n",
    "\n",
    "# Preview\n",
    "X.head()\n"
   ]
  },
  {
   "cell_type": "markdown",
   "id": "0705d6e2-b6e2-4e5f-8dcd-ff6154552445",
   "metadata": {},
   "source": [
    "## Encode Categorical Variables"
   ]
  },
  {
   "cell_type": "code",
   "execution_count": 10,
   "id": "dca58cba-715f-4059-9ec2-c70636c5feb4",
   "metadata": {},
   "outputs": [],
   "source": [
    "import sklearn\n",
    "from sklearn.preprocessing import LabelEncoder\n",
    "\n",
    "categoricals = ['Customer Gender', 'Ticket Type', 'Ticket Priority', 'Ticket Channel']\n",
    "le_dict = {}\n",
    "\n",
    "for col in categoricals:\n",
    "    le = LabelEncoder()\n",
    "    X[col] = le.fit_transform(X[col].astype(str))\n",
    "    le_dict[col] = le  # Save encoders if needed later\n"
   ]
  },
  {
   "cell_type": "markdown",
   "id": "768302e2-8379-42ba-b01f-182f36988e73",
   "metadata": {},
   "source": [
    "## Train/test split & model training"
   ]
  },
  {
   "cell_type": "code",
   "execution_count": 11,
   "id": "6c120f76-1062-4248-815a-c081316dfa47",
   "metadata": {},
   "outputs": [
    {
     "name": "stdout",
     "output_type": "stream",
     "text": [
      "Accuracy: 0.2003610108303249\n",
      "              precision    recall  f1-score   support\n",
      "\n",
      "           1       0.22      0.25      0.23       109\n",
      "           2       0.16      0.14      0.15       117\n",
      "           3       0.18      0.19      0.18       112\n",
      "           4       0.18      0.19      0.18       108\n",
      "           5       0.26      0.25      0.25       108\n",
      "\n",
      "    accuracy                           0.20       554\n",
      "   macro avg       0.20      0.20      0.20       554\n",
      "weighted avg       0.20      0.20      0.20       554\n",
      "\n"
     ]
    }
   ],
   "source": [
    "from sklearn.model_selection import train_test_split\n",
    "from sklearn.ensemble import RandomForestClassifier\n",
    "from sklearn.metrics import classification_report, accuracy_score\n",
    "\n",
    "# Split data\n",
    "X_train, X_test, y_train, y_test = train_test_split(X, y, test_size=0.2, random_state=42)\n",
    "\n",
    "# Initialize model\n",
    "model = RandomForestClassifier(random_state=42)\n",
    "model.fit(X_train, y_train)\n",
    "\n",
    "# Predict\n",
    "y_pred = model.predict(X_test)\n",
    "\n",
    "# Evaluate\n",
    "print(\"Accuracy:\", accuracy_score(y_test, y_pred))\n",
    "print(classification_report(y_test, y_pred))\n"
   ]
  },
  {
   "cell_type": "markdown",
   "id": "e17722fb-73d8-4327-8569-b9abdd2f449a",
   "metadata": {},
   "source": [
    "## Feature Importance Plot"
   ]
  },
  {
   "cell_type": "code",
   "execution_count": 13,
   "id": "affcf953-46fa-4bc5-ac2f-931570bae799",
   "metadata": {},
   "outputs": [
    {
     "data": {
      "image/png": "[encoded data removed]",
      "text/plain": [
       "<Figure size 1000x600 with 1 Axes>"
      ]
     },
     "metadata": {},
     "output_type": "display_data"
    }
   ],
   "source": [
    "import matplotlib.pyplot as plt\n",
    "import pandas as pd\n",
    "\n",
    "# Get feature importances\n",
    "importances = model.feature_importances_\n",
    "features = X.columns\n",
    "\n",
    "# Create a DataFrame\n",
    "feat_imp = pd.DataFrame({'Feature': features, 'Importance': importances})\n",
    "feat_imp.sort_values(by='Importance', ascending=False, inplace=True)\n",
    "\n",
    "# Plot\n",
    "plt.figure(figsize=(10, 6))\n",
    "sns.barplot(data=feat_imp, x='Importance', y='Feature')\n",
    "plt.title(\"Feature Importances for CSAT Prediction\")\n",
    "plt.tight_layout()\n",
    "plt.show()\n"
   ]
  },
  {
   "cell_type": "markdown",
   "id": "32e50339-3bf0-468e-aa35-175ebf8cf4ee",
   "metadata": {},
   "source": [
    "The feature importance chart clearly shows that:\n",
    "- Resolution Time (hrs) and Customer Age are the strongest predictors of CSAT.\n",
    "- Categorical variables like Ticket Type, Priority, and Channel have moderate influence.\n",
    "- Customer Gender contributes the least."
   ]
  },
  {
   "cell_type": "markdown",
   "id": "973f5f51-31a0-4a9a-aec5-7cf4e9fe6485",
   "metadata": {},
   "source": [
    "## Confusion Matrix to Visualize Performance"
   ]
  },
  {
   "cell_type": "code",
   "execution_count": 14,
   "id": "9954fe4c-c59e-4199-bde7-792e292d425f",
   "metadata": {},
   "outputs": [
    {
     "data": {
      "text/plain": [
       "<Figure size 800x600 with 0 Axes>"
      ]
     },
     "metadata": {},
     "output_type": "display_data"
    },
    {
     "data": {
      "image/png": "[encoded data removed]",
      "text/plain": [
       "<Figure size 640x480 with 2 Axes>"
      ]
     },
     "metadata": {},
     "output_type": "display_data"
    }
   ],
   "source": [
    "from sklearn.metrics import confusion_matrix, ConfusionMatrixDisplay\n",
    "\n",
    "# Generate matrix\n",
    "cm = confusion_matrix(y_test, y_pred)\n",
    "disp = ConfusionMatrixDisplay(confusion_matrix=cm, display_labels=model.classes_)\n",
    "\n",
    "# Plot\n",
    "plt.figure(figsize=(8, 6))\n",
    "disp.plot(cmap='Blues', values_format='d')\n",
    "plt.title(\"Confusion Matrix: CSAT Prediction\")\n",
    "plt.tight_layout()\n",
    "plt.show()\n"
   ]
  },
  {
   "cell_type": "markdown",
   "id": "2963e31b-13ab-4439-97fd-e3836807326c",
   "metadata": {},
   "source": [
    "### 📊 CSAT Prediction Model Summary\n",
    "\n",
    "- **Model Used:** Random Forest Classifier  \n",
    "- **Target Variable:** Customer Satisfaction Rating (1 to 5)\n",
    "\n",
    "#### ⚙️ Features Used:\n",
    "- Customer Age  \n",
    "- Customer Gender  \n",
    "- Ticket Type  \n",
    "- Ticket Priority  \n",
    "- Ticket Channel  \n",
    "- Resolution Time (hrs)\n",
    "\n",
    "#### 📉 Model Performance:\n",
    "- **Accuracy:** 20%\n",
    "- **F1-scores per class:** Between 0.15 and 0.25  \n",
    "- The model performs poorly in predicting the exact CSAT score due to class overlap and possibly noisy labels.\n",
    "\n",
    "#### 🔍 Insights:\n",
    "- **Most important features:**  \n",
    "  1. Resolution Time (hrs)  \n",
    "  2. Customer Age  \n",
    "  3. Ticket Type\n",
    "\n",
    "#### 📌 Recommendations:\n",
    "- Consider **reframing** as a binary classification task (e.g., Satisfied [4–5] vs Unsatisfied [1–3])  \n",
    "- Try **advanced models** (e.g., XGBoost, CatBoost)  \n",
    "- Apply **class balancing**, **feature engineering**, and possibly **hyperparameter tuning**\n"
   ]
  },
  {
   "cell_type": "markdown",
   "id": "7282ebe1-cde2-4ca7-923a-132281a78d79",
   "metadata": {},
   "source": [
    "# Binary CSAT Classification"
   ]
  },
  {
   "cell_type": "markdown",
   "id": "e8532fda-1796-4fc0-8e78-4db8febaa222",
   "metadata": {},
   "source": [
    "We'll create a new target variable called CSAT_Binary:\n",
    "- 1 (Satisfied): If Customer Satisfaction Rating is 4 or 5\n",
    "- 0 (Unsatisfied): If the rating is 1, 2, or 3"
   ]
  },
  {
   "cell_type": "code",
   "execution_count": 16,
   "id": "bdbf95cb-c4dd-4334-8a38-6746cabb79ae",
   "metadata": {},
   "outputs": [],
   "source": [
    "# Convert CSAT to binary: 1 if rating is 4 or 5, else 0\n",
    "df['CSAT_Binary'] = df['Customer Satisfaction Rating'].apply(lambda x: 1 if x >= 4 else 0)\n",
    "\n",
    "# Define new target and use same features\n",
    "y = df['CSAT_Binary']\n"
   ]
  },
  {
   "cell_type": "code",
   "execution_count": 17,
   "id": "e9b5263a-7311-40c8-967b-f80cf725302d",
   "metadata": {},
   "outputs": [
    {
     "name": "stdout",
     "output_type": "stream",
     "text": [
      "Binary Classification Accuracy: 0.572202166064982\n",
      "              precision    recall  f1-score   support\n",
      "\n",
      "           0       0.62      0.78      0.69       338\n",
      "           1       0.42      0.25      0.31       216\n",
      "\n",
      "    accuracy                           0.57       554\n",
      "   macro avg       0.52      0.51      0.50       554\n",
      "weighted avg       0.54      0.57      0.54       554\n",
      "\n"
     ]
    }
   ],
   "source": [
    "from sklearn.model_selection import train_test_split\n",
    "from sklearn.ensemble import RandomForestClassifier\n",
    "from sklearn.metrics import classification_report, accuracy_score, confusion_matrix\n",
    "import seaborn as sns\n",
    "import matplotlib.pyplot as plt\n",
    "\n",
    "# Split data\n",
    "X_train, X_test, y_train, y_test = train_test_split(X, y, test_size=0.2, random_state=42)\n",
    "\n",
    "# Train model\n",
    "clf_bin = RandomForestClassifier(random_state=42)\n",
    "clf_bin.fit(X_train, y_train)\n",
    "\n",
    "# Predict\n",
    "y_pred_bin = clf_bin.predict(X_test)\n",
    "\n",
    "# Evaluate\n",
    "print(\"Binary Classification Accuracy:\", accuracy_score(y_test, y_pred_bin))\n",
    "print(classification_report(y_test, y_pred_bin))\n"
   ]
  },
  {
   "cell_type": "code",
   "execution_count": 18,
   "id": "e2b815cf-eb37-49f7-90cd-f2fdfa14e8c7",
   "metadata": {},
   "outputs": [
    {
     "data": {
      "text/plain": [
       "<Figure size 600x400 with 0 Axes>"
      ]
     },
     "metadata": {},
     "output_type": "display_data"
    },
    {
     "data": {
      "image/png": "[encoded data removed]",
      "text/plain": [
       "<Figure size 640x480 with 2 Axes>"
      ]
     },
     "metadata": {},
     "output_type": "display_data"
    }
   ],
   "source": [
    "from sklearn.metrics import ConfusionMatrixDisplay\n",
    "\n",
    "# Generate confusion matrix\n",
    "cm = confusion_matrix(y_test, y_pred_bin)\n",
    "disp = ConfusionMatrixDisplay(confusion_matrix=cm, display_labels=clf_bin.classes_)\n",
    "\n",
    "# Plot\n",
    "plt.figure(figsize=(6, 4))\n",
    "disp.plot(cmap='Blues', values_format='d')\n",
    "plt.title(\"Confusion Matrix: Binary CSAT Prediction\")\n",
    "plt.tight_layout()\n",
    "plt.show()\n"
   ]
  },
  {
   "cell_type": "code",
   "execution_count": 19,
   "id": "e4e85c6f-35a0-474c-9d4c-79007827976f",
   "metadata": {},
   "outputs": [
    {
     "data": {
      "image/png": "[encoded data removed]",
      "text/plain": [
       "<Figure size 800x500 with 1 Axes>"
      ]
     },
     "metadata": {},
     "output_type": "display_data"
    }
   ],
   "source": [
    "# Feature importances for binary model\n",
    "importances_bin = clf_bin.feature_importances_\n",
    "features = X.columns\n",
    "\n",
    "# Plot\n",
    "plt.figure(figsize=(8, 5))\n",
    "sns.barplot(x=importances_bin, y=features)\n",
    "plt.title(\"Feature Importances for Binary CSAT Prediction\")\n",
    "plt.xlabel(\"Importance\")\n",
    "plt.ylabel(\"Feature\")\n",
    "plt.tight_layout()\n",
    "plt.show()\n"
   ]
  },
  {
   "cell_type": "markdown",
   "id": "23a078fd-5e8a-4adc-98d8-19c8a1e9c0d1",
   "metadata": {},
   "source": [
    "### 🔍 Feature Importance for Binary CSAT Prediction\n",
    "\n",
    "The model identified the following features as key drivers for predicting whether a customer is satisfied (1) or dissatisfied (0):\n",
    "\n",
    "- **Resolution Time (hrs)**: By far the most impactful feature. Longer resolution times strongly correlate with customer dissatisfaction.\n",
    "- **Customer Age**: Plays a significant role—suggesting that different age groups may have varying expectations or tolerance levels.\n",
    "- **Ticket Type, Priority, Channel, and Gender**: These features contribute marginally compared to time-based factors, but still offer contextual value in prediction.\n",
    "\n",
    "📌 **Takeaway:** Speed of issue resolution is the biggest lever for boosting customer satisfaction in this dataset.\n"
   ]
  },
  {
   "cell_type": "markdown",
   "id": "82af02af-baed-4d12-b1bf-72e6cffeb349",
   "metadata": {},
   "source": [
    "## 📈 Model Performance Summary & Next Steps\n",
    "\n",
    "The Random Forest model for predicting binary CSAT achieved:\n",
    "\n",
    "- **Accuracy**: ~57%\n",
    "- **Precision/Recall**: Precision was stronger for satisfied customers (class 0), but recall was lower for dissatisfied customers (class 1), indicating a bias in class prediction.\n",
    "- **Confusion Matrix**: Shows the model struggled to correctly identify dissatisfied users (many false negatives).\n",
    "\n",
    "### ✅ Key Insights\n",
    "- **Resolution Time** and **Customer Age** are the most predictive features.\n",
    "- Class imbalance may have contributed to reduced performance for dissatisfied predictions.\n",
    "\n",
    "### 🚀 Next Steps for Improvement\n",
    "- Perform **feature engineering** on text fields (e.g., Ticket Subject or Description) using NLP techniques.\n",
    "- Apply **resampling techniques** (e.g., SMOTE) to balance the target class.\n",
    "- Try other models like **Gradient Boosting**, **XGBoost**, or **Logistic Regression** with hyperparameter tuning.\n",
    "- Use **cross-validation** to improve generalization.\n",
    "\n",
    "This forms a strong foundation for demonstrating predictive modeling and customer analytics in a support environment.\n"
   ]
  },
  {
   "cell_type": "code",
   "execution_count": null,
   "id": "02109f99-117b-4d84-aba9-70c45221f663",
   "metadata": {},
   "outputs": [],
   "source": []
  }
 ],
 "metadata": {
  "kernelspec": {
   "display_name": "Python 3 (ipykernel)",
   "language": "python",
   "name": "python3"
  },
  "language_info": {
   "codemirror_mode": {
    "name": "ipython",
    "version": 3
   },
   "file_extension": ".py",
   "mimetype": "text/x-python",
   "name": "python",
   "nbconvert_exporter": "python",
   "pygments_lexer": "ipython3",
   "version": "3.9.6"
  }
 },
 "nbformat": 4,
 "nbformat_minor": 5
}
